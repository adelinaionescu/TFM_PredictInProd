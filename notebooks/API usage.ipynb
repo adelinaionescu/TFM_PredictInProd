{
 "cells": [
  {
   "cell_type": "code",
   "execution_count": 0,
   "metadata": {},
   "outputs": [],
   "source": [
    "import requests\n",
    "\n",
    "# fill the parameters for the prediction\n",
    "params = dict(\n",
    "  pickup_datetime='2012-10-06 12:10:20',\n",
    "  pickup_longitude=40.7614327,\n",
    "  pickup_latitude=-73.9798156,\n",
    "  dropoff_longitude=40.6413111,\n",
    "  dropoff_latitude=-73.9797156,\n",
    "  passenger_count=1\n",
    ")\n",
    "\n",
    "params = dict(\n",
    "  pickup_datetime='2012-10-06 12:10:20',\n",
    "  pickup_longitude=40.7614327,\n",
    "  pickup_latitude=-73.9798156,\n",
    "  dropoff_longitude=40.6331166,\n",
    "  dropoff_latitude=-73.8874078,    \n",
    "  passenger_count=2\n",
    ")\n",
    "\n",
    "# URL\n",
    "taxifare_api_url = \"http://127.0.0.1:8000/predict\"\n",
    "\n",
    "# retrieve the response\n",
    "response = requests.get(\n",
    "    taxifare_api_url,\n",
    "    params=params\n",
    ")\n",
    "\n",
    "if response.status_code == 200:\n",
    "    print(\"API call success\")\n",
    "else:\n",
    "    print(\"API call error\")\n",
    "\n",
    "response.status_code, response.json().get(\"fare\", \"no prediction\"), response.json()\n"
   ]
  },
  {
   "cell_type": "code",
   "execution_count": 21,
   "metadata": {},
   "outputs": [],
   "source": [
    "def predict(pickup_datetime\n",
    ",pickup_longitude,pickup_latitude\n",
    ",dropoff_longitude,dropoff_latitude,passenger_count\n",
    "):\n",
    "    key = \"2013-07-06 17:18:00.000000119\"\n",
    "    pickup_datetime = datetime.strptime(pickup_datetime, \"%Y-%m-%d %H:%M:%S\")\n",
    "    eastern = pytz.timezone(\"US/Eastern\")\n",
    "    localized_pickup_datetime = eastern.localize(pickup_datetime, is_dst=None)\n",
    "    utc_pickup_datetime = localized_pickup_datetime.astimezone(pytz.utc)\n",
    "    formatted_pickup_datetime = utc_pickup_datetime.strftime(\"%Y-%m-%d %H:%M:%S UTC\")\n",
    "    X_pred = pd.DataFrame.from_dict({\n",
    "        \"key\":[key],\n",
    "        \"pickup_datetime\":[formatted_pickup_datetime],\n",
    "        \"pickup_longitude\": [pickup_longitude],\n",
    "        \"pickup_latitude\": [pickup_latitude],\n",
    "        \"dropoff_longitude\": [dropoff_longitude],\n",
    "        \"dropoff_latitude\": [dropoff_latitude],\n",
    "        \"passenger_count\": [passenger_count]})\n",
    "\n",
    "    return X_pred\n",
    "        #\"pickup_longitude\": pickup_longitude,\n",
    "        #\"pickup_latitude\": pickup_latitude,\n",
    "        #\"dropoff_longitude\": dropoff_longitude,\n",
    "        #\"dropoff_latitude\": dropoff_latitude,\n",
    "        #\"passenger_count\": passenger_count\n"
   ]
  },
  {
   "cell_type": "code",
   "execution_count": 1,
   "metadata": {},
   "outputs": [],
   "source": [
    "from fastapi import FastAPI\n",
    "from fastapi.middleware.cors import CORSMiddleware\n",
    "from datetime import datetime\n",
    "import pytz\n",
    "import pandas as pd"
   ]
  },
  {
   "cell_type": "code",
   "execution_count": 22,
   "metadata": {},
   "outputs": [],
   "source": [
    "x_pred = predict('2012-10-06 12:10:20',40.7614327,-73.9798156,40.6331166,-73.8874078,2)"
   ]
  },
  {
   "cell_type": "code",
   "execution_count": 25,
   "metadata": {},
   "outputs": [
    {
     "data": {
      "text/plain": [
       "(1, 7)"
      ]
     },
     "execution_count": 25,
     "metadata": {},
     "output_type": "execute_result"
    }
   ],
   "source": [
    "x_pred.shape"
   ]
  },
  {
   "cell_type": "code",
   "execution_count": 26,
   "metadata": {},
   "outputs": [
    {
     "data": {
      "text/html": [
       "<div>\n",
       "<style scoped>\n",
       "    .dataframe tbody tr th:only-of-type {\n",
       "        vertical-align: middle;\n",
       "    }\n",
       "\n",
       "    .dataframe tbody tr th {\n",
       "        vertical-align: top;\n",
       "    }\n",
       "\n",
       "    .dataframe thead th {\n",
       "        text-align: right;\n",
       "    }\n",
       "</style>\n",
       "<table border=\"1\" class=\"dataframe\">\n",
       "  <thead>\n",
       "    <tr style=\"text-align: right;\">\n",
       "      <th></th>\n",
       "      <th>key</th>\n",
       "      <th>pickup_datetime</th>\n",
       "      <th>pickup_longitude</th>\n",
       "      <th>pickup_latitude</th>\n",
       "      <th>dropoff_longitude</th>\n",
       "      <th>dropoff_latitude</th>\n",
       "      <th>passenger_count</th>\n",
       "    </tr>\n",
       "  </thead>\n",
       "  <tbody>\n",
       "    <tr>\n",
       "      <th>0</th>\n",
       "      <td>2013-07-06 17:18:00.000000119</td>\n",
       "      <td>2012-10-06 16:10:20 UTC</td>\n",
       "      <td>40.761433</td>\n",
       "      <td>-73.979816</td>\n",
       "      <td>40.633117</td>\n",
       "      <td>-73.887408</td>\n",
       "      <td>2</td>\n",
       "    </tr>\n",
       "  </tbody>\n",
       "</table>\n",
       "</div>"
      ],
      "text/plain": [
       "                             key          pickup_datetime  pickup_longitude  \\\n",
       "0  2013-07-06 17:18:00.000000119  2012-10-06 16:10:20 UTC         40.761433   \n",
       "\n",
       "   pickup_latitude  dropoff_longitude  dropoff_latitude  passenger_count  \n",
       "0       -73.979816          40.633117        -73.887408                2  "
      ]
     },
     "execution_count": 26,
     "metadata": {},
     "output_type": "execute_result"
    }
   ],
   "source": [
    "x_pred"
   ]
  },
  {
   "cell_type": "code",
   "execution_count": null,
   "metadata": {},
   "outputs": [],
   "source": []
  },
  {
   "cell_type": "code",
   "execution_count": null,
   "metadata": {},
   "outputs": [],
   "source": []
  },
  {
   "cell_type": "code",
   "execution_count": null,
   "metadata": {},
   "outputs": [],
   "source": []
  },
  {
   "cell_type": "code",
   "execution_count": null,
   "metadata": {},
   "outputs": [],
   "source": []
  }
 ],
 "metadata": {
  "kernelspec": {
   "display_name": "Python 3 (ipykernel)",
   "language": "python",
   "name": "python3"
  },
  "language_info": {
   "codemirror_mode": {
    "name": "ipython",
    "version": 3
   },
   "file_extension": ".py",
   "mimetype": "text/x-python",
   "name": "python",
   "nbconvert_exporter": "python",
   "pygments_lexer": "ipython3",
   "version": "3.8.12"
  }
 },
 "nbformat": 4,
 "nbformat_minor": 4
}
